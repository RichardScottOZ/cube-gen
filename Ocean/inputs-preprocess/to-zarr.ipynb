{
 "cells": [
  {
   "cell_type": "code",
   "execution_count": 34,
   "id": "b8f43353-7067-4522-a8f0-ee802d227f0d",
   "metadata": {},
   "outputs": [],
   "source": [
    "from xcube.core.store import find_data_store_extensions\n",
    "from xcube.core.store import get_data_store_params_schema\n",
    "from xcube.core.store import new_data_store"
   ]
  },
  {
   "cell_type": "code",
   "execution_count": 35,
   "id": "dde9a6b7-17f6-4920-8bd7-f83d79d7dd3c",
   "metadata": {},
   "outputs": [],
   "source": [
    "import xarray as xr\n",
    "import numpy as np\n",
    "from glob import glob\n",
    "from tqdm import tqdm\n",
    "import os\n",
    "from datetime import datetime"
   ]
  },
  {
   "cell_type": "code",
   "execution_count": 36,
   "id": "cfe29c8d-74e6-4e24-9ac1-7521261a396f",
   "metadata": {},
   "outputs": [],
   "source": [
    "store = new_data_store(\"s3\", root=\"deep-esdl-input\")\n",
    "store_output = new_data_store(\"s3\", root=\"deep-esdl-output\")"
   ]
  },
  {
   "cell_type": "code",
   "execution_count": 38,
   "id": "c0e7c7a4-9856-4569-a416-6c31c9eef08c",
   "metadata": {},
   "outputs": [],
   "source": [
    "datasets = [\n",
    "    'phytoplankton-primary-production-1M-9km-64x256x256.zarr',\n",
    "    'phytoplankton-carbon-1M-9km-64x256x256.zarr',\n",
    "    'oceanic-export-production-1M-9km-64x256x256.zarr'\n",
    "]\n",
    "\n",
    "das = [store.open_data(dataset) for dataset in datasets]"
   ]
  },
  {
   "cell_type": "code",
   "execution_count": 52,
   "id": "0d522c70-1ce1-4e8b-a501-dd5311ddf53d",
   "metadata": {},
   "outputs": [],
   "source": [
    "for i in [1,2]:\n",
    "    das[i][\"lat\"] = das[0].lat\n",
    "    das[i][\"lon\"] = das[0].lon"
   ]
  },
  {
   "cell_type": "code",
   "execution_count": 54,
   "id": "6ba6a4ed-9e5f-4d02-979b-3451e995fd06",
   "metadata": {},
   "outputs": [
    {
     "name": "stderr",
     "output_type": "stream",
     "text": [
      "/home/conda/deepesdl/5ad4a98794ade3cd8ed705d9844d59b5d0a992e84fef742056d8dba1693f56e3-20230119-164346-175524-44-cube-gen/lib/python3.9/site-packages/dask/array/core.py:4806: PerformanceWarning: Increasing number of chunks by factor of 17\n",
      "  result = blockwise(\n",
      "/home/conda/deepesdl/5ad4a98794ade3cd8ed705d9844d59b5d0a992e84fef742056d8dba1693f56e3-20230119-164346-175524-44-cube-gen/lib/python3.9/site-packages/dask/array/core.py:4806: PerformanceWarning: Increasing number of chunks by factor of 17\n",
      "  result = blockwise(\n",
      "/home/conda/deepesdl/5ad4a98794ade3cd8ed705d9844d59b5d0a992e84fef742056d8dba1693f56e3-20230119-164346-175524-44-cube-gen/lib/python3.9/site-packages/dask/array/core.py:4806: PerformanceWarning: Increasing number of chunks by factor of 17\n",
      "  result = blockwise(\n",
      "/home/conda/deepesdl/5ad4a98794ade3cd8ed705d9844d59b5d0a992e84fef742056d8dba1693f56e3-20230119-164346-175524-44-cube-gen/lib/python3.9/site-packages/dask/array/core.py:4806: PerformanceWarning: Increasing number of chunks by factor of 17\n",
      "  result = blockwise(\n",
      "/home/conda/deepesdl/5ad4a98794ade3cd8ed705d9844d59b5d0a992e84fef742056d8dba1693f56e3-20230119-164346-175524-44-cube-gen/lib/python3.9/site-packages/dask/array/core.py:4806: PerformanceWarning: Increasing number of chunks by factor of 17\n",
      "  result = blockwise(\n",
      "/home/conda/deepesdl/5ad4a98794ade3cd8ed705d9844d59b5d0a992e84fef742056d8dba1693f56e3-20230119-164346-175524-44-cube-gen/lib/python3.9/site-packages/dask/array/core.py:4806: PerformanceWarning: Increasing number of chunks by factor of 17\n",
      "  result = blockwise(\n",
      "/home/conda/deepesdl/5ad4a98794ade3cd8ed705d9844d59b5d0a992e84fef742056d8dba1693f56e3-20230119-164346-175524-44-cube-gen/lib/python3.9/site-packages/dask/array/core.py:4806: PerformanceWarning: Increasing number of chunks by factor of 17\n",
      "  result = blockwise(\n",
      "/home/conda/deepesdl/5ad4a98794ade3cd8ed705d9844d59b5d0a992e84fef742056d8dba1693f56e3-20230119-164346-175524-44-cube-gen/lib/python3.9/site-packages/dask/array/core.py:4806: PerformanceWarning: Increasing number of chunks by factor of 17\n",
      "  result = blockwise(\n",
      "/home/conda/deepesdl/5ad4a98794ade3cd8ed705d9844d59b5d0a992e84fef742056d8dba1693f56e3-20230119-164346-175524-44-cube-gen/lib/python3.9/site-packages/dask/array/core.py:4806: PerformanceWarning: Increasing number of chunks by factor of 17\n",
      "  result = blockwise(\n",
      "/home/conda/deepesdl/5ad4a98794ade3cd8ed705d9844d59b5d0a992e84fef742056d8dba1693f56e3-20230119-164346-175524-44-cube-gen/lib/python3.9/site-packages/dask/array/core.py:4806: PerformanceWarning: Increasing number of chunks by factor of 17\n",
      "  result = blockwise(\n",
      "/home/conda/deepesdl/5ad4a98794ade3cd8ed705d9844d59b5d0a992e84fef742056d8dba1693f56e3-20230119-164346-175524-44-cube-gen/lib/python3.9/site-packages/dask/array/core.py:4806: PerformanceWarning: Increasing number of chunks by factor of 17\n",
      "  result = blockwise(\n"
     ]
    }
   ],
   "source": [
    "ds = xr.merge(das)"
   ]
  },
  {
   "cell_type": "code",
   "execution_count": 57,
   "id": "1ac22806-c236-48ad-a953-4bd5a5c2982d",
   "metadata": {},
   "outputs": [],
   "source": [
    "ds = ds.chunk(dict(time = 64))"
   ]
  },
  {
   "cell_type": "code",
   "execution_count": 59,
   "id": "6849d397-f84e-47c8-816c-d698aa7d0b4f",
   "metadata": {},
   "outputs": [],
   "source": [
    "additional_attrs = {\n",
    "    \"date_modified\": str(datetime.now()),\n",
    "    \"geospatial_lat_max\": float(ds.lat.max().values),\n",
    "    \"geospatial_lat_min\": float(ds.lat.min().values),\n",
    "    \"geospatial_lat_resolution\": abs(float(\n",
    "        ds.lat[1] - ds.lat[0]\n",
    "    )),\n",
    "    \"geospatial_lon_max\": float(ds.lon.max().values),\n",
    "    \"geospatial_lon_min\": float(ds.lon.min().values),\n",
    "    \"geospatial_lon_resolution\": abs(float(\n",
    "        ds.lon[1] - ds.lon[0]\n",
    "    )),\n",
    "    \"time_coverage_start\": str(ds.time[0].values),\n",
    "    \"time_coverage_end\": str(ds.time[-1].values),\n",
    "}"
   ]
  },
  {
   "cell_type": "code",
   "execution_count": 60,
   "id": "5341f77d-ffe6-4884-aa47-bc540087d2bc",
   "metadata": {},
   "outputs": [],
   "source": [
    "ds.attrs = additional_attrs"
   ]
  },
  {
   "cell_type": "code",
   "execution_count": null,
   "id": "c413c153-4096-4f5c-bfdf-8d4a08f04962",
   "metadata": {},
   "outputs": [],
   "source": [
    "store_output.write_data(ds, \"ocean-1M-9km-64x256x256-1.0.0.zarr\", replace=True)"
   ]
  }
 ],
 "metadata": {
  "kernelspec": {
   "display_name": "deepesdl-cube-gen",
   "language": "python",
   "name": "conda-env-deepesdl-cube-gen-py"
  },
  "language_info": {
   "codemirror_mode": {
    "name": "ipython",
    "version": 3
   },
   "file_extension": ".py",
   "mimetype": "text/x-python",
   "name": "python",
   "nbconvert_exporter": "python",
   "pygments_lexer": "ipython3",
   "version": "3.9.15"
  }
 },
 "nbformat": 4,
 "nbformat_minor": 5
}
