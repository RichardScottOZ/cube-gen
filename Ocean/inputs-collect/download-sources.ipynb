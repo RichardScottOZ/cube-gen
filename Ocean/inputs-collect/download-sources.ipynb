{
 "cells": [
  {
   "cell_type": "code",
   "execution_count": 1,
   "id": "ca83dbdd-28ed-422e-a9eb-d77a5e6f4cd3",
   "metadata": {},
   "outputs": [],
   "source": [
    "from glob import glob"
   ]
  },
  {
   "cell_type": "code",
   "execution_count": 2,
   "id": "30ef05a3-d524-49c9-8dd6-a8cea98a6117",
   "metadata": {},
   "outputs": [],
   "source": [
    "import json\n",
    "import requests\n",
    "import os\n",
    "import numpy as np\n",
    "from tqdm import tqdm\n",
    "from bs4 import BeautifulSoup"
   ]
  },
  {
   "cell_type": "code",
   "execution_count": 3,
   "id": "6b3a5525-2c8b-464d-b305-fea2e7f0e6b4",
   "metadata": {},
   "outputs": [],
   "source": [
    "pathOut = \"~/data/ocean/source/\"\n",
    "pathOut = os.path.expanduser(pathOut)\n",
    "\n",
    "if not os.path.exists(pathOut):\n",
    "    os.makedirs(pathOut)"
   ]
  },
  {
   "cell_type": "code",
   "execution_count": 7,
   "id": "a7838768-1ea2-4a34-bf42-3736853c21ba",
   "metadata": {},
   "outputs": [
    {
     "data": {
      "text/plain": [
       "True"
      ]
     },
     "execution_count": 7,
     "metadata": {},
     "output_type": "execute_result"
    }
   ],
   "source": [
    "os.path.exists('/home/davemlz/data/ocean/source/monthly_global_marine_phytoplankton_primary_production/BICEP_NCEO_PP_ESA-OC-L3S-MERGED-1M_MONTHLY_9km_mapped_199801-fv4.2.nc')"
   ]
  },
  {
   "cell_type": "code",
   "execution_count": 4,
   "id": "f7814968-0b31-4d7b-be3c-eb97f4936278",
   "metadata": {},
   "outputs": [
    {
     "data": {
      "text/plain": [
       "['/home/davemlz/data/ocean/source/']"
      ]
     },
     "execution_count": 4,
     "metadata": {},
     "output_type": "execute_result"
    }
   ],
   "source": [
    "glob('/home/davemlz/data/ocean/source/monthly_global_particulate_organic_carbon_(poc)/')"
   ]
  },
  {
   "cell_type": "code",
   "execution_count": 69,
   "id": "12e6927b-5c4e-41ba-b1f9-dd4df11d5387",
   "metadata": {},
   "outputs": [],
   "source": [
    "with open('../cube9km.geojson', 'r') as f:\n",
    "    cube_specs = json.load(f)"
   ]
  },
  {
   "cell_type": "code",
   "execution_count": 70,
   "id": "e754b0b8-df27-428e-8cb9-1199af626587",
   "metadata": {},
   "outputs": [],
   "source": [
    "# cube_specs"
   ]
  },
  {
   "cell_type": "code",
   "execution_count": 71,
   "id": "fb87d1d0-72ae-41fb-b732-8d4151114591",
   "metadata": {},
   "outputs": [],
   "source": [
    "def list_files_nc(url, ext=''):\n",
    "    page = requests.get(url).text\n",
    "    soup = BeautifulSoup(page, 'html.parser')\n",
    "    return [node.get('href') for node in soup.find_all('a') if node.get('href').endswith(ext)]"
   ]
  },
  {
   "cell_type": "code",
   "execution_count": 72,
   "id": "1db877ac-cecd-44f3-a79a-88de09472042",
   "metadata": {},
   "outputs": [
    {
     "name": "stderr",
     "output_type": "stream",
     "text": [
      "100%|██████████| 24/24 [00:11<00:00,  2.06it/s]\n"
     ]
    }
   ],
   "source": [
    "years = np.arange(1997,2021)\n",
    "url=\"https://data.ceda.ac.uk/neodc/bicep/data/marine_primary_production/v4.2/monthly/\"\n",
    "files = []\n",
    "for year in tqdm(years):\n",
    "    r = requests.get(f\"{url}{year}\")\n",
    "    if r.status_code == 200:\n",
    "        files.extend(list_files_nc(f\"{url}{year}/\",\"download=1\"))"
   ]
  },
  {
   "cell_type": "code",
   "execution_count": 82,
   "id": "b1deae57-996b-4d0c-97bb-cb292e02b8c6",
   "metadata": {},
   "outputs": [
    {
     "data": {
      "text/plain": [
       "276"
      ]
     },
     "execution_count": 82,
     "metadata": {},
     "output_type": "execute_result"
    }
   ],
   "source": []
  },
  {
   "cell_type": "code",
   "execution_count": null,
   "id": "02acfdcb-238f-4fc9-a70e-06e031ad19e2",
   "metadata": {},
   "outputs": [],
   "source": [
    "def download_file(source):\n",
    "    output_source_path = pathOut + \"/\" + source['name'].lower().replace(\" \",\"_\")\n",
    "    if not os.path.exists(output_source_path):\n",
    "        os.makedirs(output_source_path)\n",
    "    url = source['download_url']\n",
    "    years = np.arange(1997,2021)\n",
    "    files = []\n",
    "    for year in tqdm(years):\n",
    "        r = requests.get(f\"{url}{year}\")\n",
    "        if r.status_code == 200:\n",
    "            files.extend(list_files_nc(f\"{url}{year}/\",\"download=1\"))\n",
    "    files = np.unique(files).tolist()\n",
    "    for file in files:\n",
    "        response = requests.get(file)\n",
    "        filename = file.replace(\"?download=1\",\"\")\n",
    "        output = output_source_path + \"/\" + filename\n",
    "        open(output, \"wb\").write(response.content)"
   ]
  },
  {
   "cell_type": "code",
   "execution_count": null,
   "id": "e7be7b3b-5263-4910-92ca-d5b0d29e2bbd",
   "metadata": {},
   "outputs": [],
   "source": [
    "                \n",
    "[download_file(source) for source in tqdm(cube_specs['properties']['sources'])]"
   ]
  }
 ],
 "metadata": {
  "kernelspec": {
   "display_name": "deepesdl-cube-gen",
   "language": "python",
   "name": "conda-env-deepesdl-cube-gen-py"
  },
  "language_info": {
   "codemirror_mode": {
    "name": "ipython",
    "version": 3
   },
   "file_extension": ".py",
   "mimetype": "text/x-python",
   "name": "python",
   "nbconvert_exporter": "python",
   "pygments_lexer": "ipython3",
   "version": "3.9.15"
  }
 },
 "nbformat": 4,
 "nbformat_minor": 5
}
