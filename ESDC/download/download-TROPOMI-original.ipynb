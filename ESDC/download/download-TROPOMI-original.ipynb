{
 "cells": [
  {
   "cell_type": "code",
   "execution_count": 1,
   "id": "940b2176-a090-428b-a6fb-d5f92f230070",
   "metadata": {},
   "outputs": [],
   "source": [
    "import ftplib\n",
    "\n",
    "FTP_HOST = \"fluo.gps.caltech.edu\"\n",
    "FTP_USER = \"anonymous\"\n",
    "FTP_PASS = \"\""
   ]
  },
  {
   "cell_type": "code",
   "execution_count": 2,
   "id": "67131cc6-f02f-43bd-8d64-495369b4e082",
   "metadata": {},
   "outputs": [],
   "source": [
    "# connect to the FTP server\n",
    "ftp = ftplib.FTP(FTP_HOST, FTP_USER, FTP_PASS)\n",
    "# force UTF-8 encoding\n",
    "ftp.encoding = \"utf-8\""
   ]
  },
  {
   "cell_type": "code",
   "execution_count": 3,
   "id": "55ca77cc-7eb5-4159-a594-bc8750c3a760",
   "metadata": {},
   "outputs": [
    {
     "name": "stdout",
     "output_type": "stream",
     "text": [
      "-rw-r--r--    1 9206     2059     19548910 Nov 11  2020 CFIS_L2SIF_SVD_SBIN_ICA2_NGDCS20170706t220255_dem_update.h5\n",
      "drwxrwsr-x    4 9206     2059           92 Sep 20  2017 Pics\n",
      "dr-xrwsr-x   16 14       2059          335 Aug 20  2021 data\n",
      "dr-xrwsr-x    8 14       2059          235 Mar 31  2020 temp\n"
     ]
    }
   ],
   "source": [
    "ftp.dir()"
   ]
  },
  {
   "cell_type": "code",
   "execution_count": 4,
   "id": "3f83b503-ef87-4244-a453-ca8d380260a9",
   "metadata": {},
   "outputs": [
    {
     "data": {
      "text/plain": [
       "'250 Directory successfully changed.'"
      ]
     },
     "execution_count": 4,
     "metadata": {},
     "output_type": "execute_result"
    }
   ],
   "source": [
    "ftp.cwd(\"data/tropomi/gridded/SIF740\")"
   ]
  },
  {
   "cell_type": "code",
   "execution_count": 5,
   "id": "be359f9b-7df5-420a-be26-c4a557d1bb22",
   "metadata": {},
   "outputs": [],
   "source": [
    "# the name of file you want to download from the FTP server\n",
    "filename = \"TROPOMI-SIF740nm_01-2021--10-2021_0_0833333deg_8-daily.nc\"\n",
    "PATH = \"/net/projects/deep_esdl/data/TROPOMI/data/\" + filename\n",
    "with open(PATH, \"wb\") as file:\n",
    "    # use FTP's RETR command to download the file\n",
    "    ftp.retrbinary(f\"RETR {filename}\", file.write)"
   ]
  },
  {
   "cell_type": "code",
   "execution_count": 4,
   "id": "352ab0e4-aef4-4b02-a445-9fd229d080fa",
   "metadata": {},
   "outputs": [
    {
     "data": {
      "text/plain": [
       "'250 Directory successfully changed.'"
      ]
     },
     "execution_count": 4,
     "metadata": {},
     "output_type": "execute_result"
    }
   ],
   "source": [
    "ftp.cwd(\"data/tropomi/gridded/SIF683\")"
   ]
  },
  {
   "cell_type": "code",
   "execution_count": null,
   "id": "daba0779-0c91-42fd-b7b2-d83599fee9e1",
   "metadata": {},
   "outputs": [],
   "source": [
    "# the name of file you want to download from the FTP server\n",
    "filename = \"TROPOMI-redSIF_global_05-2018--06-2021_daily_005deg.nc\"\n",
    "PATH = \"/net/projects/deep_esdl/data/TROPOMI/data/\" + filename\n",
    "with open(PATH, \"wb\") as file:\n",
    "    # use FTP's RETR command to download the file\n",
    "    ftp.retrbinary(f\"RETR {filename}\", file.write)"
   ]
  }
 ],
 "metadata": {
  "kernelspec": {
   "display_name": "Python 3 (ipykernel)",
   "language": "python",
   "name": "python3"
  },
  "language_info": {
   "codemirror_mode": {
    "name": "ipython",
    "version": 3
   },
   "file_extension": ".py",
   "mimetype": "text/x-python",
   "name": "python",
   "nbconvert_exporter": "python",
   "pygments_lexer": "ipython3",
   "version": "3.9.7"
  }
 },
 "nbformat": 4,
 "nbformat_minor": 5
}
